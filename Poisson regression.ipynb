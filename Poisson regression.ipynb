{
 "cells": [
  {
   "cell_type": "markdown",
   "metadata": {},
   "source": [
    "Ви маєте задачу: передбачити кількість звернень у службу підтримки вашого сайту в певний день. У службу підтримки за день звертається цілочисельна кількість людей, яких зазвичай не більше 7–10, тому ви вирішили використовувати розподіл Пуассона для моделювання таких звернень."
   ]
  },
  {
   "cell_type": "markdown",
   "metadata": {},
   "source": [
    "###### a) Розподіл імовірностей Пуассона має вигляд: $P(y;\\lambda) = \\dfrac{e^{-\\lambda}\\lambda^{y}}{y!}$ Покажіть, що розподіл Пуассона належить до експоненціального сімейства і вкажіть, чому дорівнюють $ b(y), \\eta, T (y), a(\\eta)$"
   ]
  },
  {
   "cell_type": "markdown",
   "metadata": {},
   "source": [
    "###### Відповідь:"
   ]
  },
  {
   "cell_type": "markdown",
   "metadata": {},
   "source": [
    "Розподіл імовірності належить до експоненціального сімейства, якщо його можна представити у вигляді: $P(y;\\eta) = b(y)exp(\\eta^{\\top}T(y) − a(\\eta))$. Можемо переписати розподіл Пуассона, застосовуючи $exp$:"
   ]
  },
  {
   "cell_type": "markdown",
   "metadata": {},
   "source": [
    "$P(y\\mid\\eta) = exp(log(\\dfrac{\\lambda^{y}e^{-\\lambda}}{y!})) = exp(ylog\\lambda -\\lambda - logy!) = \\dfrac{1}{y!}exp(ylog\\lambda - \\lambda)$, де $\\eta = log\\lambda, T(y) = y, a(\\eta) = exp(\\eta), \\mu = exp(\\eta) $"
   ]
  },
  {
   "cell_type": "markdown",
   "metadata": {},
   "source": [
    "/---/"
   ]
  },
  {
   "cell_type": "markdown",
   "metadata": {},
   "source": [
    "###### b) Якою буде канонічна функція відгуку (canonical response function) для цього розподілу? Ви можете використати той факт, що випадкова величина з розподілом Пуассона з параметром λ має середнє значення λ."
   ]
  },
  {
   "cell_type": "markdown",
   "metadata": {},
   "source": [
    "###### Відповідь:"
   ]
  },
  {
   "cell_type": "markdown",
   "metadata": {},
   "source": [
    "Оскільки, $\\eta = log\\lambda \\Rightarrow {\\lambda} = e^{\\eta}$"
   ]
  },
  {
   "cell_type": "markdown",
   "metadata": {},
   "source": [
    "/---/"
   ]
  },
  {
   "cell_type": "markdown",
   "metadata": {
    "collapsed": true
   },
   "source": [
    "###### c) Для навчальної вибірки $\\{(x^{(i)}, y^{(i)});i = 1, ... m\\}$ логарифмічна функція правдоподібності (log-likelihood) буде: $l(\\theta) = log P(y^{(i)}\\mid x^{(i)}; \\theta)$ Виведіть похідну $\\frac{\\partial}{\\partial \\theta_{j}}l(\\theta)$ та сформулюйте правило оновлення ваги $\\theta_{j}$ методом стохастичного градієнтного підйому, якщо y має розподіл Пуассона та канонічну функцію відгуку."
   ]
  },
  {
   "cell_type": "markdown",
   "metadata": {},
   "source": [
    "###### Відповідь:"
   ]
  },
  {
   "cell_type": "markdown",
   "metadata": {},
   "source": [
    "Розподіл можна записати у вигляді $P(y^{(i)}\\mid x^{(i)}, \\theta) = \\frac{1}{y!}exp(y^{(i)}\\theta^{\\top}x^{(i)}- e^{\\theta^{\\top}x^{(i)}} )$, тому можемо виразити ймовірність у вигляді $P(y^{(n)}\\mid(x^{(n)},\\theta) =  \\displaystyle \\prod_{i=1}^{n}\\frac{exp(y^{(i)}\\theta^\\top x^{(i)} - e^{\\theta^{\\top}x^{(i)}})}{y^{(i)}!}$"
   ]
  },
  {
   "cell_type": "markdown",
   "metadata": {},
   "source": [
    "Обчислимо likelihood функцію $l(y\\mid x,\\theta) = \\displaystyle \\sum_{i=1}^{n}(y^{(i)}\\theta^{\\top}x^{(i)} - exp(\\theta^{\\top}x^{(i)})-log(y^{(i)}!))$"
   ]
  },
  {
   "cell_type": "markdown",
   "metadata": {},
   "source": [
    "Візьмемо часткову похідну, щоб максимізувати likelihood функцію"
   ]
  },
  {
   "cell_type": "markdown",
   "metadata": {},
   "source": [
    "$\\frac{\\partial l(y\\mid x,\\theta)}{\\partial \\theta}= \\displaystyle \\sum_{i=1}^{n}(y^{(i)}x^{(i)} - x^{(i)}exp(\\theta^{\\top}x^{(i)})) = \\displaystyle \\sum_{i=1}^{n}x^{(i)}(y^{(i)}-exp(\\theta^{\\top}x^{(i)})) = \\displaystyle \\sum_{i=1}^{n}x^{(i)}(y^{(i)}-\\widehat{y^{(i)}})$"
   ]
  },
  {
   "cell_type": "markdown",
   "metadata": {},
   "source": [
    "$\\theta = \\theta - \\alpha \\nabla_{\\theta} l(\\theta) \\Rightarrow \\theta_{j} = \\theta_{j} + \\alpha(x^{(i)}(y^{(i)}-exp(\\theta^{\\top}x^{(i)})) $"
   ]
  },
  {
   "cell_type": "code",
   "execution_count": null,
   "metadata": {
    "collapsed": true
   },
   "outputs": [],
   "source": []
  }
 ],
 "metadata": {
  "anaconda-cloud": {},
  "kernelspec": {
   "display_name": "Python 3",
   "language": "python",
   "name": "python3"
  },
  "language_info": {
   "codemirror_mode": {
    "name": "ipython",
    "version": 3
   },
   "file_extension": ".py",
   "mimetype": "text/x-python",
   "name": "python",
   "nbconvert_exporter": "python",
   "pygments_lexer": "ipython3",
   "version": "3.5.2"
  }
 },
 "nbformat": 4,
 "nbformat_minor": 1
}
