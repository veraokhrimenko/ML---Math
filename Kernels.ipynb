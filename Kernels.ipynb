{
 "cells": [
  {
   "cell_type": "markdown",
   "metadata": {},
   "source": [
    "##### Створення кернелів."
   ]
  },
  {
   "cell_type": "markdown",
   "metadata": {},
   "source": [
    "Нехай:\n",
    "\n",
    "• $ K_1 та K_2$ — кернели над векторами $R_n×R_n.$\n",
    "\n",
    "• $a ∈ R^{+}$ — дійсне додатне значення.\n",
    "\n",
    "• $f: R^{n} ⟼ R$ — функція, що проектує вектор розмірністю n на дійсне число.\n",
    "\n",
    "• $\\phi: R^{n} ⟼ R^{d}$ — функція, що проектує вектор розмірністю n на вектор розмірністю d.\n",
    "\n",
    "• $K_3$ — кернел над векторами $R^{d}×R^{d}$.\n",
    "\n",
    "• $p(x)$ — многочлен зі змінною x та тільки додатними коефіцієнтами."
   ]
  },
  {
   "cell_type": "markdown",
   "metadata": {},
   "source": [
    "___________"
   ]
  },
  {
   "cell_type": "markdown",
   "metadata": {},
   "source": [
    "###### a) $ K(x,z) = K_1(x,z)+K_2(x,z)$"
   ]
  },
  {
   "cell_type": "markdown",
   "metadata": {},
   "source": [
    "Необхідна і достатня умова для того, щоб бути правильним кернелом - функція $K(x,z)$ може бути виражена як внутрішній добуток в деякому просторі ознак, а саме: "
   ]
  },
  {
   "cell_type": "markdown",
   "metadata": {},
   "source": [
    "$\\int_{x}\\int_{z} k(x,z)g(x)g(z)dxdz \\geq 0$"
   ]
  },
  {
   "cell_type": "markdown",
   "metadata": {},
   "source": [
    "Оскільки $K_1, K_2$ задані як кернели над векторами  $\\int_{x}\\int_{z}K_1(x,z)g(x)g(z)dxdz \\geq 0,  \\int_{x}\\int_{z}K_2(x,z)g(x)g(z)dxdz \\geq 0$"
   ]
  },
  {
   "cell_type": "markdown",
   "metadata": {},
   "source": [
    "Тому, $\\int_{x}\\int_{z} (K_1(x,z) + K_2(x,z))g(x)g(z)dxdz = \\int_{x}\\int_{z}K_1(x,z)g(x)g(z)dxdz + \\int_{x}\\int_{z}K_2(x,z)g(x)g(z)dxdz \\geq 0 $\n"
   ]
  },
  {
   "cell_type": "markdown",
   "metadata": {},
   "source": [
    "###### Є кернелом"
   ]
  },
  {
   "cell_type": "markdown",
   "metadata": {},
   "source": [
    "---------------------"
   ]
  },
  {
   "cell_type": "markdown",
   "metadata": {},
   "source": [
    "###### b) $ K(x,z) = K_1(x,z)-K_2(x,z)$"
   ]
  },
  {
   "cell_type": "markdown",
   "metadata": {},
   "source": [
    "$\\int_{x}\\int_{z} (K_1(x,z) - K_2(x,z))g(x)g(z)dxdz = \\int_{x}\\int_{z}K_1(x,z)g(x)g(z)dxdz - \\int_{x}\\int_{z}K_2(x,z)g(x)g(z)dxdz \\geq 0 $, лише при умові $ K_1 \\geq K_2$"
   ]
  },
  {
   "cell_type": "markdown",
   "metadata": {},
   "source": [
    "###### Є кернелом за умовою $ K_1 \\geq K_2$"
   ]
  },
  {
   "cell_type": "markdown",
   "metadata": {},
   "source": [
    "---------------------"
   ]
  },
  {
   "cell_type": "markdown",
   "metadata": {},
   "source": [
    "###### c) $ K(x,z) = a * K_1(x,z)$"
   ]
  },
  {
   "cell_type": "markdown",
   "metadata": {},
   "source": [
    "$\\int_{x}\\int_{z} aK_1(x,z)g(x)g(z)dxdz = a\\int_{x}\\int_{z}K_1(x,z)g(x)g(z)dxdz \\geq 0 $, оскільки a — дійсне додатне значення."
   ]
  },
  {
   "cell_type": "markdown",
   "metadata": {},
   "source": [
    "###### Є кернелом"
   ]
  },
  {
   "cell_type": "markdown",
   "metadata": {},
   "source": [
    "---------------------"
   ]
  },
  {
   "cell_type": "markdown",
   "metadata": {},
   "source": [
    "###### d) $ K(x,z) = -a * K_1(x,z)$"
   ]
  },
  {
   "cell_type": "markdown",
   "metadata": {},
   "source": [
    "$\\int_{x}\\int_{z} -aK_1(x,z)g(x)g(z)dxdz = -a\\int_{x}\\int_{z}K_1(x,z)g(x)g(z)dxdz \\leq 0 $, оскільки a — дійсне додатне значення."
   ]
  },
  {
   "cell_type": "markdown",
   "metadata": {},
   "source": [
    "###### Не є кернелом"
   ]
  },
  {
   "cell_type": "markdown",
   "metadata": {},
   "source": [
    "---------------------"
   ]
  },
  {
   "cell_type": "markdown",
   "metadata": {
    "collapsed": true
   },
   "source": [
    "###### e) $ K(x,z) = K_1(x,z) * K_2(x,z)$"
   ]
  },
  {
   "cell_type": "markdown",
   "metadata": {},
   "source": [
    "Позначимо $  K_1 $  як a, та $  K_2 $ як b"
   ]
  },
  {
   "cell_type": "markdown",
   "metadata": {},
   "source": [
    "$ K_1(x,z) = a(x)^{\\top}*a(z) $"
   ]
  },
  {
   "cell_type": "markdown",
   "metadata": {},
   "source": [
    "$ K_2(x,z) = b(x)^{\\top}*b(z) $"
   ]
  },
  {
   "cell_type": "markdown",
   "metadata": {},
   "source": [
    "$ K(x,z) = K_1(x,z) * K_2(x,z) = (\\sum_{m=1}^{M} (a_m(x)*a_m(z))(\\sum_{n=1}^{N} (b_n(x)*b_n(z)) = \\sum_{m=1}^{M}\\sum_{n=1}^{N}[a_m(x)*b_n(x)][a_m(z)*b_n(z)] = \\sum_{m=1}^{M}\\sum_{n=1}^{N} c_{mn}(x)c_{mn}(z) = c(x)^{\\top}c(z)$ "
   ]
  },
  {
   "cell_type": "markdown",
   "metadata": {},
   "source": [
    "###### Є кернелом"
   ]
  },
  {
   "cell_type": "markdown",
   "metadata": {},
   "source": [
    "____________________"
   ]
  },
  {
   "cell_type": "markdown",
   "metadata": {},
   "source": [
    "##### f) $ K(x,z) = f(x)f(z)$ "
   ]
  },
  {
   "cell_type": "markdown",
   "metadata": {},
   "source": [
    "Оскільки, $ \\phi: x → f(x) ∈ R, \\phi: z → f(z) ∈ R $ 1-вимірні вектори"
   ]
  },
  {
   "cell_type": "markdown",
   "metadata": {},
   "source": [
    "###### Є кернелом"
   ]
  },
  {
   "cell_type": "markdown",
   "metadata": {},
   "source": [
    "_________________"
   ]
  },
  {
   "cell_type": "markdown",
   "metadata": {},
   "source": [
    "##### g) $ K(x,z) = K_3(\\phi(x)\\phi(z))$ "
   ]
  },
  {
   "cell_type": "markdown",
   "metadata": {},
   "source": [
    "Так як $ K_3 $ є кернелом, то матриця $K_3(\\phi(x)\\phi(z))$ є також невід'ємною "
   ]
  },
  {
   "cell_type": "markdown",
   "metadata": {},
   "source": [
    "###### Є кернелом"
   ]
  },
  {
   "cell_type": "markdown",
   "metadata": {},
   "source": [
    "_______________"
   ]
  },
  {
   "cell_type": "markdown",
   "metadata": {},
   "source": [
    "##### h) $ K(x,z) = p(K_1(x,z))$ "
   ]
  },
  {
   "cell_type": "markdown",
   "metadata": {},
   "source": [
    "Оскільки p - многочлен зі змінною x та тільки додатними коефіцієнтами, то $ K(x,z) = p(K_1(x,z)) \\geq 0 $, що випливає з того, що суми та добуток кернелів також є кернелом (приклади a, e)"
   ]
  },
  {
   "cell_type": "markdown",
   "metadata": {},
   "source": [
    "###### Є кернелом"
   ]
  }
 ],
 "metadata": {
  "anaconda-cloud": {},
  "kernelspec": {
   "display_name": "Python 3",
   "language": "python",
   "name": "python3"
  },
  "language_info": {
   "codemirror_mode": {
    "name": "ipython",
    "version": 3
   },
   "file_extension": ".py",
   "mimetype": "text/x-python",
   "name": "python",
   "nbconvert_exporter": "python",
   "pygments_lexer": "ipython3",
   "version": "3.5.2"
  }
 },
 "nbformat": 4,
 "nbformat_minor": 1
}
